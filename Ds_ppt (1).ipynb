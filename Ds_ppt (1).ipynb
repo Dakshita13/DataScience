{
  "nbformat": 4,
  "nbformat_minor": 0,
  "metadata": {
    "colab": {
      "name": "Ds_ppt.ipynb",
      "provenance": []
    },
    "kernelspec": {
      "name": "python3",
      "display_name": "Python 3"
    },
    "language_info": {
      "name": "python"
    }
  },
  "cells": [
    {
      "cell_type": "markdown",
      "metadata": {
        "id": "-jmeIgNnjpKB"
      },
      "source": [
        "#**Using Histogram on Netflix Data**"
      ]
    },
    {
      "cell_type": "markdown",
      "metadata": {
        "id": "-FdOtiYPj1sK"
      },
      "source": [
        "##Importing all libraries"
      ]
    },
    {
      "cell_type": "code",
      "metadata": {
        "id": "Mw1ghSjlUXcz"
      },
      "source": [
        "import pandas as pd\n",
        "import numpy as np\n",
        "import matplotlib.pyplot as plt\n"
      ],
      "execution_count": null,
      "outputs": []
    },
    {
      "cell_type": "markdown",
      "metadata": {
        "id": "SmhRNYGNkGCl"
      },
      "source": [
        "## Uploading Required dataset"
      ]
    },
    {
      "cell_type": "code",
      "metadata": {
        "colab": {
          "resources": {
            "http://localhost:8080/nbextensions/google.colab/files.js": {
              "data": "Ly8gQ29weXJpZ2h0IDIwMTcgR29vZ2xlIExMQwovLwovLyBMaWNlbnNlZCB1bmRlciB0aGUgQXBhY2hlIExpY2Vuc2UsIFZlcnNpb24gMi4wICh0aGUgIkxpY2Vuc2UiKTsKLy8geW91IG1heSBub3QgdXNlIHRoaXMgZmlsZSBleGNlcHQgaW4gY29tcGxpYW5jZSB3aXRoIHRoZSBMaWNlbnNlLgovLyBZb3UgbWF5IG9idGFpbiBhIGNvcHkgb2YgdGhlIExpY2Vuc2UgYXQKLy8KLy8gICAgICBodHRwOi8vd3d3LmFwYWNoZS5vcmcvbGljZW5zZXMvTElDRU5TRS0yLjAKLy8KLy8gVW5sZXNzIHJlcXVpcmVkIGJ5IGFwcGxpY2FibGUgbGF3IG9yIGFncmVlZCB0byBpbiB3cml0aW5nLCBzb2Z0d2FyZQovLyBkaXN0cmlidXRlZCB1bmRlciB0aGUgTGljZW5zZSBpcyBkaXN0cmlidXRlZCBvbiBhbiAiQVMgSVMiIEJBU0lTLAovLyBXSVRIT1VUIFdBUlJBTlRJRVMgT1IgQ09ORElUSU9OUyBPRiBBTlkgS0lORCwgZWl0aGVyIGV4cHJlc3Mgb3IgaW1wbGllZC4KLy8gU2VlIHRoZSBMaWNlbnNlIGZvciB0aGUgc3BlY2lmaWMgbGFuZ3VhZ2UgZ292ZXJuaW5nIHBlcm1pc3Npb25zIGFuZAovLyBsaW1pdGF0aW9ucyB1bmRlciB0aGUgTGljZW5zZS4KCi8qKgogKiBAZmlsZW92ZXJ2aWV3IEhlbHBlcnMgZm9yIGdvb2dsZS5jb2xhYiBQeXRob24gbW9kdWxlLgogKi8KKGZ1bmN0aW9uKHNjb3BlKSB7CmZ1bmN0aW9uIHNwYW4odGV4dCwgc3R5bGVBdHRyaWJ1dGVzID0ge30pIHsKICBjb25zdCBlbGVtZW50ID0gZG9jdW1lbnQuY3JlYXRlRWxlbWVudCgnc3BhbicpOwogIGVsZW1lbnQudGV4dENvbnRlbnQgPSB0ZXh0OwogIGZvciAoY29uc3Qga2V5IG9mIE9iamVjdC5rZXlzKHN0eWxlQXR0cmlidXRlcykpIHsKICAgIGVsZW1lbnQuc3R5bGVba2V5XSA9IHN0eWxlQXR0cmlidXRlc1trZXldOwogIH0KICByZXR1cm4gZWxlbWVudDsKfQoKLy8gTWF4IG51bWJlciBvZiBieXRlcyB3aGljaCB3aWxsIGJlIHVwbG9hZGVkIGF0IGEgdGltZS4KY29uc3QgTUFYX1BBWUxPQURfU0laRSA9IDEwMCAqIDEwMjQ7CgpmdW5jdGlvbiBfdXBsb2FkRmlsZXMoaW5wdXRJZCwgb3V0cHV0SWQpIHsKICBjb25zdCBzdGVwcyA9IHVwbG9hZEZpbGVzU3RlcChpbnB1dElkLCBvdXRwdXRJZCk7CiAgY29uc3Qgb3V0cHV0RWxlbWVudCA9IGRvY3VtZW50LmdldEVsZW1lbnRCeUlkKG91dHB1dElkKTsKICAvLyBDYWNoZSBzdGVwcyBvbiB0aGUgb3V0cHV0RWxlbWVudCB0byBtYWtlIGl0IGF2YWlsYWJsZSBmb3IgdGhlIG5leHQgY2FsbAogIC8vIHRvIHVwbG9hZEZpbGVzQ29udGludWUgZnJvbSBQeXRob24uCiAgb3V0cHV0RWxlbWVudC5zdGVwcyA9IHN0ZXBzOwoKICByZXR1cm4gX3VwbG9hZEZpbGVzQ29udGludWUob3V0cHV0SWQpOwp9CgovLyBUaGlzIGlzIHJvdWdobHkgYW4gYXN5bmMgZ2VuZXJhdG9yIChub3Qgc3VwcG9ydGVkIGluIHRoZSBicm93c2VyIHlldCksCi8vIHdoZXJlIHRoZXJlIGFyZSBtdWx0aXBsZSBhc3luY2hyb25vdXMgc3RlcHMgYW5kIHRoZSBQeXRob24gc2lkZSBpcyBnb2luZwovLyB0byBwb2xsIGZvciBjb21wbGV0aW9uIG9mIGVhY2ggc3RlcC4KLy8gVGhpcyB1c2VzIGEgUHJvbWlzZSB0byBibG9jayB0aGUgcHl0aG9uIHNpZGUgb24gY29tcGxldGlvbiBvZiBlYWNoIHN0ZXAsCi8vIHRoZW4gcGFzc2VzIHRoZSByZXN1bHQgb2YgdGhlIHByZXZpb3VzIHN0ZXAgYXMgdGhlIGlucHV0IHRvIHRoZSBuZXh0IHN0ZXAuCmZ1bmN0aW9uIF91cGxvYWRGaWxlc0NvbnRpbnVlKG91dHB1dElkKSB7CiAgY29uc3Qgb3V0cHV0RWxlbWVudCA9IGRvY3VtZW50LmdldEVsZW1lbnRCeUlkKG91dHB1dElkKTsKICBjb25zdCBzdGVwcyA9IG91dHB1dEVsZW1lbnQuc3RlcHM7CgogIGNvbnN0IG5leHQgPSBzdGVwcy5uZXh0KG91dHB1dEVsZW1lbnQubGFzdFByb21pc2VWYWx1ZSk7CiAgcmV0dXJuIFByb21pc2UucmVzb2x2ZShuZXh0LnZhbHVlLnByb21pc2UpLnRoZW4oKHZhbHVlKSA9PiB7CiAgICAvLyBDYWNoZSB0aGUgbGFzdCBwcm9taXNlIHZhbHVlIHRvIG1ha2UgaXQgYXZhaWxhYmxlIHRvIHRoZSBuZXh0CiAgICAvLyBzdGVwIG9mIHRoZSBnZW5lcmF0b3IuCiAgICBvdXRwdXRFbGVtZW50Lmxhc3RQcm9taXNlVmFsdWUgPSB2YWx1ZTsKICAgIHJldHVybiBuZXh0LnZhbHVlLnJlc3BvbnNlOwogIH0pOwp9CgovKioKICogR2VuZXJhdG9yIGZ1bmN0aW9uIHdoaWNoIGlzIGNhbGxlZCBiZXR3ZWVuIGVhY2ggYXN5bmMgc3RlcCBvZiB0aGUgdXBsb2FkCiAqIHByb2Nlc3MuCiAqIEBwYXJhbSB7c3RyaW5nfSBpbnB1dElkIEVsZW1lbnQgSUQgb2YgdGhlIGlucHV0IGZpbGUgcGlja2VyIGVsZW1lbnQuCiAqIEBwYXJhbSB7c3RyaW5nfSBvdXRwdXRJZCBFbGVtZW50IElEIG9mIHRoZSBvdXRwdXQgZGlzcGxheS4KICogQHJldHVybiB7IUl0ZXJhYmxlPCFPYmplY3Q+fSBJdGVyYWJsZSBvZiBuZXh0IHN0ZXBzLgogKi8KZnVuY3Rpb24qIHVwbG9hZEZpbGVzU3RlcChpbnB1dElkLCBvdXRwdXRJZCkgewogIGNvbnN0IGlucHV0RWxlbWVudCA9IGRvY3VtZW50LmdldEVsZW1lbnRCeUlkKGlucHV0SWQpOwogIGlucHV0RWxlbWVudC5kaXNhYmxlZCA9IGZhbHNlOwoKICBjb25zdCBvdXRwdXRFbGVtZW50ID0gZG9jdW1lbnQuZ2V0RWxlbWVudEJ5SWQob3V0cHV0SWQpOwogIG91dHB1dEVsZW1lbnQuaW5uZXJIVE1MID0gJyc7CgogIGNvbnN0IHBpY2tlZFByb21pc2UgPSBuZXcgUHJvbWlzZSgocmVzb2x2ZSkgPT4gewogICAgaW5wdXRFbGVtZW50LmFkZEV2ZW50TGlzdGVuZXIoJ2NoYW5nZScsIChlKSA9PiB7CiAgICAgIHJlc29sdmUoZS50YXJnZXQuZmlsZXMpOwogICAgfSk7CiAgfSk7CgogIGNvbnN0IGNhbmNlbCA9IGRvY3VtZW50LmNyZWF0ZUVsZW1lbnQoJ2J1dHRvbicpOwogIGlucHV0RWxlbWVudC5wYXJlbnRFbGVtZW50LmFwcGVuZENoaWxkKGNhbmNlbCk7CiAgY2FuY2VsLnRleHRDb250ZW50ID0gJ0NhbmNlbCB1cGxvYWQnOwogIGNvbnN0IGNhbmNlbFByb21pc2UgPSBuZXcgUHJvbWlzZSgocmVzb2x2ZSkgPT4gewogICAgY2FuY2VsLm9uY2xpY2sgPSAoKSA9PiB7CiAgICAgIHJlc29sdmUobnVsbCk7CiAgICB9OwogIH0pOwoKICAvLyBXYWl0IGZvciB0aGUgdXNlciB0byBwaWNrIHRoZSBmaWxlcy4KICBjb25zdCBmaWxlcyA9IHlpZWxkIHsKICAgIHByb21pc2U6IFByb21pc2UucmFjZShbcGlja2VkUHJvbWlzZSwgY2FuY2VsUHJvbWlzZV0pLAogICAgcmVzcG9uc2U6IHsKICAgICAgYWN0aW9uOiAnc3RhcnRpbmcnLAogICAgfQogIH07CgogIGNhbmNlbC5yZW1vdmUoKTsKCiAgLy8gRGlzYWJsZSB0aGUgaW5wdXQgZWxlbWVudCBzaW5jZSBmdXJ0aGVyIHBpY2tzIGFyZSBub3QgYWxsb3dlZC4KICBpbnB1dEVsZW1lbnQuZGlzYWJsZWQgPSB0cnVlOwoKICBpZiAoIWZpbGVzKSB7CiAgICByZXR1cm4gewogICAgICByZXNwb25zZTogewogICAgICAgIGFjdGlvbjogJ2NvbXBsZXRlJywKICAgICAgfQogICAgfTsKICB9CgogIGZvciAoY29uc3QgZmlsZSBvZiBmaWxlcykgewogICAgY29uc3QgbGkgPSBkb2N1bWVudC5jcmVhdGVFbGVtZW50KCdsaScpOwogICAgbGkuYXBwZW5kKHNwYW4oZmlsZS5uYW1lLCB7Zm9udFdlaWdodDogJ2JvbGQnfSkpOwogICAgbGkuYXBwZW5kKHNwYW4oCiAgICAgICAgYCgke2ZpbGUudHlwZSB8fCAnbi9hJ30pIC0gJHtmaWxlLnNpemV9IGJ5dGVzLCBgICsKICAgICAgICBgbGFzdCBtb2RpZmllZDogJHsKICAgICAgICAgICAgZmlsZS5sYXN0TW9kaWZpZWREYXRlID8gZmlsZS5sYXN0TW9kaWZpZWREYXRlLnRvTG9jYWxlRGF0ZVN0cmluZygpIDoKICAgICAgICAgICAgICAgICAgICAgICAgICAgICAgICAgICAgJ24vYSd9IC0gYCkpOwogICAgY29uc3QgcGVyY2VudCA9IHNwYW4oJzAlIGRvbmUnKTsKICAgIGxpLmFwcGVuZENoaWxkKHBlcmNlbnQpOwoKICAgIG91dHB1dEVsZW1lbnQuYXBwZW5kQ2hpbGQobGkpOwoKICAgIGNvbnN0IGZpbGVEYXRhUHJvbWlzZSA9IG5ldyBQcm9taXNlKChyZXNvbHZlKSA9PiB7CiAgICAgIGNvbnN0IHJlYWRlciA9IG5ldyBGaWxlUmVhZGVyKCk7CiAgICAgIHJlYWRlci5vbmxvYWQgPSAoZSkgPT4gewogICAgICAgIHJlc29sdmUoZS50YXJnZXQucmVzdWx0KTsKICAgICAgfTsKICAgICAgcmVhZGVyLnJlYWRBc0FycmF5QnVmZmVyKGZpbGUpOwogICAgfSk7CiAgICAvLyBXYWl0IGZvciB0aGUgZGF0YSB0byBiZSByZWFkeS4KICAgIGxldCBmaWxlRGF0YSA9IHlpZWxkIHsKICAgICAgcHJvbWlzZTogZmlsZURhdGFQcm9taXNlLAogICAgICByZXNwb25zZTogewogICAgICAgIGFjdGlvbjogJ2NvbnRpbnVlJywKICAgICAgfQogICAgfTsKCiAgICAvLyBVc2UgYSBjaHVua2VkIHNlbmRpbmcgdG8gYXZvaWQgbWVzc2FnZSBzaXplIGxpbWl0cy4gU2VlIGIvNjIxMTU2NjAuCiAgICBsZXQgcG9zaXRpb24gPSAwOwogICAgZG8gewogICAgICBjb25zdCBsZW5ndGggPSBNYXRoLm1pbihmaWxlRGF0YS5ieXRlTGVuZ3RoIC0gcG9zaXRpb24sIE1BWF9QQVlMT0FEX1NJWkUpOwogICAgICBjb25zdCBjaHVuayA9IG5ldyBVaW50OEFycmF5KGZpbGVEYXRhLCBwb3NpdGlvbiwgbGVuZ3RoKTsKICAgICAgcG9zaXRpb24gKz0gbGVuZ3RoOwoKICAgICAgY29uc3QgYmFzZTY0ID0gYnRvYShTdHJpbmcuZnJvbUNoYXJDb2RlLmFwcGx5KG51bGwsIGNodW5rKSk7CiAgICAgIHlpZWxkIHsKICAgICAgICByZXNwb25zZTogewogICAgICAgICAgYWN0aW9uOiAnYXBwZW5kJywKICAgICAgICAgIGZpbGU6IGZpbGUubmFtZSwKICAgICAgICAgIGRhdGE6IGJhc2U2NCwKICAgICAgICB9LAogICAgICB9OwoKICAgICAgbGV0IHBlcmNlbnREb25lID0gZmlsZURhdGEuYnl0ZUxlbmd0aCA9PT0gMCA/CiAgICAgICAgICAxMDAgOgogICAgICAgICAgTWF0aC5yb3VuZCgocG9zaXRpb24gLyBmaWxlRGF0YS5ieXRlTGVuZ3RoKSAqIDEwMCk7CiAgICAgIHBlcmNlbnQudGV4dENvbnRlbnQgPSBgJHtwZXJjZW50RG9uZX0lIGRvbmVgOwoKICAgIH0gd2hpbGUgKHBvc2l0aW9uIDwgZmlsZURhdGEuYnl0ZUxlbmd0aCk7CiAgfQoKICAvLyBBbGwgZG9uZS4KICB5aWVsZCB7CiAgICByZXNwb25zZTogewogICAgICBhY3Rpb246ICdjb21wbGV0ZScsCiAgICB9CiAgfTsKfQoKc2NvcGUuZ29vZ2xlID0gc2NvcGUuZ29vZ2xlIHx8IHt9OwpzY29wZS5nb29nbGUuY29sYWIgPSBzY29wZS5nb29nbGUuY29sYWIgfHwge307CnNjb3BlLmdvb2dsZS5jb2xhYi5fZmlsZXMgPSB7CiAgX3VwbG9hZEZpbGVzLAogIF91cGxvYWRGaWxlc0NvbnRpbnVlLAp9Owp9KShzZWxmKTsK",
              "ok": true,
              "headers": [
                [
                  "content-type",
                  "application/javascript"
                ]
              ],
              "status": 200,
              "status_text": ""
            }
          },
          "base_uri": "https://localhost:8080/",
          "height": 73
        },
        "id": "fAl-qQACVX1c",
        "outputId": "9c60776c-bacc-4697-a75d-f57cbc009ecf"
      },
      "source": [
        "from google.colab import files\n",
        "uploaded = files.upload()"
      ],
      "execution_count": null,
      "outputs": [
        {
          "output_type": "display_data",
          "data": {
            "text/html": [
              "\n",
              "     <input type=\"file\" id=\"files-9c3f6de0-d1f1-4136-857c-8433fa04d4db\" name=\"files[]\" multiple disabled\n",
              "        style=\"border:none\" />\n",
              "     <output id=\"result-9c3f6de0-d1f1-4136-857c-8433fa04d4db\">\n",
              "      Upload widget is only available when the cell has been executed in the\n",
              "      current browser session. Please rerun this cell to enable.\n",
              "      </output>\n",
              "      <script src=\"/nbextensions/google.colab/files.js\"></script> "
            ],
            "text/plain": [
              "<IPython.core.display.HTML object>"
            ]
          },
          "metadata": {}
        },
        {
          "output_type": "stream",
          "name": "stdout",
          "text": [
            "Saving ds_ppt.csv to ds_ppt.csv\n"
          ]
        }
      ]
    },
    {
      "cell_type": "markdown",
      "metadata": {
        "id": "0ZDYhctLkL2Z"
      },
      "source": [
        "## Reading the given CSV file"
      ]
    },
    {
      "cell_type": "code",
      "metadata": {
        "id": "MT97BQLrVX_3"
      },
      "source": [
        "data = pd.read_csv(\"ds_ppt.csv\")"
      ],
      "execution_count": null,
      "outputs": []
    },
    {
      "cell_type": "markdown",
      "metadata": {
        "id": "4CIRF9JIkQZD"
      },
      "source": [
        "##Presenting the data"
      ]
    },
    {
      "cell_type": "code",
      "metadata": {
        "colab": {
          "base_uri": "https://localhost:8080/",
          "height": 1000
        },
        "id": "BU8GdnXtV0dF",
        "outputId": "eaefaaa4-83aa-45a5-9260-72a1fb8f7b9f"
      },
      "source": [
        "data"
      ],
      "execution_count": null,
      "outputs": [
        {
          "output_type": "execute_result",
          "data": {
            "text/html": [
              "<div>\n",
              "<style scoped>\n",
              "    .dataframe tbody tr th:only-of-type {\n",
              "        vertical-align: middle;\n",
              "    }\n",
              "\n",
              "    .dataframe tbody tr th {\n",
              "        vertical-align: top;\n",
              "    }\n",
              "\n",
              "    .dataframe thead th {\n",
              "        text-align: right;\n",
              "    }\n",
              "</style>\n",
              "<table border=\"1\" class=\"dataframe\">\n",
              "  <thead>\n",
              "    <tr style=\"text-align: right;\">\n",
              "      <th></th>\n",
              "      <th>Unnamed: 0</th>\n",
              "      <th>title</th>\n",
              "      <th>year</th>\n",
              "      <th>kind</th>\n",
              "      <th>genre</th>\n",
              "      <th>rating</th>\n",
              "      <th>vote</th>\n",
              "      <th>country</th>\n",
              "      <th>language</th>\n",
              "      <th>runtime</th>\n",
              "      <th>cast</th>\n",
              "      <th>director</th>\n",
              "      <th>composer</th>\n",
              "    </tr>\n",
              "  </thead>\n",
              "  <tbody>\n",
              "    <tr>\n",
              "      <th>0</th>\n",
              "      <td>0</td>\n",
              "      <td>Dinosaur Planet</td>\n",
              "      <td>2003.0</td>\n",
              "      <td>tv mini series</td>\n",
              "      <td>['Documentary', 'Animation', 'Family']</td>\n",
              "      <td>7.7</td>\n",
              "      <td>474.0</td>\n",
              "      <td>['United States']</td>\n",
              "      <td>['English']</td>\n",
              "      <td>['50']</td>\n",
              "      <td>['Christian Slater', 'Scott Sampson']</td>\n",
              "      <td>NaN</td>\n",
              "      <td>NaN</td>\n",
              "    </tr>\n",
              "    <tr>\n",
              "      <th>1</th>\n",
              "      <td>1</td>\n",
              "      <td>Character</td>\n",
              "      <td>2021.0</td>\n",
              "      <td>movie</td>\n",
              "      <td>['Crime', 'Horror', 'Thriller']</td>\n",
              "      <td>8.3</td>\n",
              "      <td>46.0</td>\n",
              "      <td>['Japan']</td>\n",
              "      <td>['Japanese']</td>\n",
              "      <td>['125']</td>\n",
              "      <td>['Masaki Suda', 'Fukase', 'Mitsuki Takahata', ...</td>\n",
              "      <td>['Akira Nagai']</td>\n",
              "      <td>['Youki Kojima']</td>\n",
              "    </tr>\n",
              "    <tr>\n",
              "      <th>2</th>\n",
              "      <td>2</td>\n",
              "      <td>Get Up and Dance!</td>\n",
              "      <td>1994.0</td>\n",
              "      <td>video movie</td>\n",
              "      <td>['Family']</td>\n",
              "      <td>8.1</td>\n",
              "      <td>18.0</td>\n",
              "      <td>['United States']</td>\n",
              "      <td>['English']</td>\n",
              "      <td>['54']</td>\n",
              "      <td>['Paula Abdul', 'Aurorah Allain', 'Bill Bohl',...</td>\n",
              "      <td>['Steve Purcell']</td>\n",
              "      <td>NaN</td>\n",
              "    </tr>\n",
              "    <tr>\n",
              "      <th>3</th>\n",
              "      <td>3</td>\n",
              "      <td>The Rise and Fall of El Chapo</td>\n",
              "      <td>2016.0</td>\n",
              "      <td>tv movie</td>\n",
              "      <td>['Documentary']</td>\n",
              "      <td>6.9</td>\n",
              "      <td>42.0</td>\n",
              "      <td>['United States']</td>\n",
              "      <td>NaN</td>\n",
              "      <td>['85']</td>\n",
              "      <td>NaN</td>\n",
              "      <td>NaN</td>\n",
              "      <td>NaN</td>\n",
              "    </tr>\n",
              "    <tr>\n",
              "      <th>4</th>\n",
              "      <td>4</td>\n",
              "      <td>Sick - IMDb</td>\n",
              "      <td>NaN</td>\n",
              "      <td>NaN</td>\n",
              "      <td>['Thriller']</td>\n",
              "      <td>NaN</td>\n",
              "      <td>NaN</td>\n",
              "      <td>['United States']</td>\n",
              "      <td>NaN</td>\n",
              "      <td>NaN</td>\n",
              "      <td>['Marc Menchaca', 'Gideon Adlon', 'Dylan Spray...</td>\n",
              "      <td>['John Hyams']</td>\n",
              "      <td>NaN</td>\n",
              "    </tr>\n",
              "    <tr>\n",
              "      <th>5</th>\n",
              "      <td>5</td>\n",
              "      <td>8 Man</td>\n",
              "      <td>1992.0</td>\n",
              "      <td>movie</td>\n",
              "      <td>['Action', 'Sci-Fi']</td>\n",
              "      <td>5.5</td>\n",
              "      <td>93.0</td>\n",
              "      <td>['Japan']</td>\n",
              "      <td>['Japanese']</td>\n",
              "      <td>['83']</td>\n",
              "      <td>['Kai Shishido', 'Etsushi Takahashi', 'Sachiko...</td>\n",
              "      <td>['Yasuhiro Horiuchi']</td>\n",
              "      <td>['Carole King']</td>\n",
              "    </tr>\n",
              "    <tr>\n",
              "      <th>6</th>\n",
              "      <td>6</td>\n",
              "      <td>What the #$*! Do We (K)now!?</td>\n",
              "      <td>2004.0</td>\n",
              "      <td>movie</td>\n",
              "      <td>['Documentary', 'Comedy', 'Drama', 'Fantasy', ...</td>\n",
              "      <td>5.3</td>\n",
              "      <td>13432.0</td>\n",
              "      <td>['United States']</td>\n",
              "      <td>['English', 'German', 'Spanish']</td>\n",
              "      <td>['109']</td>\n",
              "      <td>['Marlee Matlin', 'Elaine Hendrix', 'John Ross...</td>\n",
              "      <td>['William Arntz', 'Betsy Chasse', 'Mark Vicente']</td>\n",
              "      <td>['Christopher Franke']</td>\n",
              "    </tr>\n",
              "    <tr>\n",
              "      <th>7</th>\n",
              "      <td>7</td>\n",
              "      <td>Class of Nuke 'Em High Part II: Subhumanoid Me...</td>\n",
              "      <td>1991.0</td>\n",
              "      <td>movie</td>\n",
              "      <td>['Comedy', 'Horror', 'Sci-Fi']</td>\n",
              "      <td>4.5</td>\n",
              "      <td>2177.0</td>\n",
              "      <td>['United States']</td>\n",
              "      <td>['English']</td>\n",
              "      <td>['96']</td>\n",
              "      <td>['Brick Bronsky', 'Lisa Gaye', 'Leesa Rowland'...</td>\n",
              "      <td>['Eric Louzil']</td>\n",
              "      <td>['Bob Mithoff']</td>\n",
              "    </tr>\n",
              "    <tr>\n",
              "      <th>8</th>\n",
              "      <td>8</td>\n",
              "      <td>The Fighter</td>\n",
              "      <td>2010.0</td>\n",
              "      <td>movie</td>\n",
              "      <td>['Biography', 'Drama', 'Sport']</td>\n",
              "      <td>7.8</td>\n",
              "      <td>351199.0</td>\n",
              "      <td>['United States']</td>\n",
              "      <td>['English']</td>\n",
              "      <td>['116']</td>\n",
              "      <td>['Mark Wahlberg', 'Christian Bale', 'Amy Adams...</td>\n",
              "      <td>['David O. Russell']</td>\n",
              "      <td>['Michael Brook']</td>\n",
              "    </tr>\n",
              "    <tr>\n",
              "      <th>9</th>\n",
              "      <td>9</td>\n",
              "      <td>The Lord of the Rings: The Return of the King ...</td>\n",
              "      <td>2019.0</td>\n",
              "      <td>episode</td>\n",
              "      <td>['Talk-Show']</td>\n",
              "      <td>NaN</td>\n",
              "      <td>NaN</td>\n",
              "      <td>['United States']</td>\n",
              "      <td>['English']</td>\n",
              "      <td>['250']</td>\n",
              "      <td>['Aaron Elliott', 'Shane Farley', 'Calvin Grub...</td>\n",
              "      <td>NaN</td>\n",
              "      <td>NaN</td>\n",
              "    </tr>\n",
              "    <tr>\n",
              "      <th>10</th>\n",
              "      <td>10</td>\n",
              "      <td>Antarctica: The End of Earth - Iceberg</td>\n",
              "      <td>1999.0</td>\n",
              "      <td>episode</td>\n",
              "      <td>['Documentary', 'Family']</td>\n",
              "      <td>NaN</td>\n",
              "      <td>NaN</td>\n",
              "      <td>NaN</td>\n",
              "      <td>NaN</td>\n",
              "      <td>NaN</td>\n",
              "      <td>NaN</td>\n",
              "      <td>NaN</td>\n",
              "      <td>NaN</td>\n",
              "    </tr>\n",
              "    <tr>\n",
              "      <th>11</th>\n",
              "      <td>11</td>\n",
              "      <td>Neil Diamond: Greatest Hits Live</td>\n",
              "      <td>1988.0</td>\n",
              "      <td>video movie</td>\n",
              "      <td>['Documentary', 'Music']</td>\n",
              "      <td>8.0</td>\n",
              "      <td>81.0</td>\n",
              "      <td>['United States']</td>\n",
              "      <td>['English']</td>\n",
              "      <td>['60']</td>\n",
              "      <td>['Neil Diamond', 'Richard Bennett', 'Vince Cha...</td>\n",
              "      <td>['Dwight Hemion', 'Peter Israelson']</td>\n",
              "      <td>NaN</td>\n",
              "    </tr>\n",
              "    <tr>\n",
              "      <th>12</th>\n",
              "      <td>12</td>\n",
              "      <td>7 Seconds</td>\n",
              "      <td>2005.0</td>\n",
              "      <td>video movie</td>\n",
              "      <td>['Action', 'Comedy', 'Crime', 'Thriller']</td>\n",
              "      <td>4.8</td>\n",
              "      <td>7153.0</td>\n",
              "      <td>['United Kingdom', 'Romania', 'Switzerland', '...</td>\n",
              "      <td>['English']</td>\n",
              "      <td>['96']</td>\n",
              "      <td>['Wesley Snipes', 'Tamzin Outhwaite', 'Deobia ...</td>\n",
              "      <td>['Simon Fellows']</td>\n",
              "      <td>['Barry Taylor', 'Neal Acree']</td>\n",
              "    </tr>\n",
              "    <tr>\n",
              "      <th>13</th>\n",
              "      <td>13</td>\n",
              "      <td>By Dawn's Early Light</td>\n",
              "      <td>1990.0</td>\n",
              "      <td>tv movie</td>\n",
              "      <td>['Action', 'Drama', 'Thriller']</td>\n",
              "      <td>7.1</td>\n",
              "      <td>2898.0</td>\n",
              "      <td>['United States']</td>\n",
              "      <td>['English', 'Russian']</td>\n",
              "      <td>['100']</td>\n",
              "      <td>['Powers Boothe', 'Rebecca De Mornay', 'James ...</td>\n",
              "      <td>['Jack Sholder']</td>\n",
              "      <td>['Trevor Jones']</td>\n",
              "    </tr>\n",
              "    <tr>\n",
              "      <th>14</th>\n",
              "      <td>14</td>\n",
              "      <td>Seeta Aur Geeta</td>\n",
              "      <td>1972.0</td>\n",
              "      <td>movie</td>\n",
              "      <td>['Adventure', 'Comedy', 'Drama', 'Family', 'Mu...</td>\n",
              "      <td>6.8</td>\n",
              "      <td>1818.0</td>\n",
              "      <td>['India']</td>\n",
              "      <td>['Hindi']</td>\n",
              "      <td>['162']</td>\n",
              "      <td>['Dharmendra', 'Sanjeev Kumar', 'Hema Malini',...</td>\n",
              "      <td>['Ramesh Sippy']</td>\n",
              "      <td>['Rahul Dev Burman']</td>\n",
              "    </tr>\n",
              "    <tr>\n",
              "      <th>15</th>\n",
              "      <td>15</td>\n",
              "      <td>Strange Relations</td>\n",
              "      <td>2001.0</td>\n",
              "      <td>tv movie</td>\n",
              "      <td>['Drama', 'Comedy']</td>\n",
              "      <td>7.6</td>\n",
              "      <td>768.0</td>\n",
              "      <td>['United Kingdom', 'United States']</td>\n",
              "      <td>['English']</td>\n",
              "      <td>['120']</td>\n",
              "      <td>['Paul Reiser', 'Amber Sealey', 'Lachele Carl'...</td>\n",
              "      <td>['Paul Seed']</td>\n",
              "      <td>['Rupert Gregson-Williams']</td>\n",
              "    </tr>\n",
              "    <tr>\n",
              "      <th>16</th>\n",
              "      <td>16</td>\n",
              "      <td>Sesame Street Presents: The Street We Live On</td>\n",
              "      <td>2004.0</td>\n",
              "      <td>episode</td>\n",
              "      <td>['Animation', 'Adventure', 'Comedy', 'Family',...</td>\n",
              "      <td>7.2</td>\n",
              "      <td>67.0</td>\n",
              "      <td>['United States']</td>\n",
              "      <td>['English', 'Spanish']</td>\n",
              "      <td>['55']</td>\n",
              "      <td>['Sonia Manzano', 'Alan Muraoka', 'Roscoe Orma...</td>\n",
              "      <td>['Kevin Clash', 'Ken Diego', 'Victor DiNapoli']</td>\n",
              "      <td>NaN</td>\n",
              "    </tr>\n",
              "    <tr>\n",
              "      <th>17</th>\n",
              "      <td>17</td>\n",
              "      <td>Lilo and Stitch</td>\n",
              "      <td>2012.0</td>\n",
              "      <td>episode</td>\n",
              "      <td>['Documentary', 'Short']</td>\n",
              "      <td>7.2</td>\n",
              "      <td>22.0</td>\n",
              "      <td>NaN</td>\n",
              "      <td>NaN</td>\n",
              "      <td>['4']</td>\n",
              "      <td>['Doug Walker']</td>\n",
              "      <td>['Doug Walker']</td>\n",
              "      <td>NaN</td>\n",
              "    </tr>\n",
              "    <tr>\n",
              "      <th>18</th>\n",
              "      <td>18</td>\n",
              "      <td>Boycott</td>\n",
              "      <td>2001.0</td>\n",
              "      <td>tv movie</td>\n",
              "      <td>['Drama', 'History']</td>\n",
              "      <td>7.2</td>\n",
              "      <td>901.0</td>\n",
              "      <td>['United States']</td>\n",
              "      <td>['English']</td>\n",
              "      <td>['118']</td>\n",
              "      <td>['Jeffrey Wright', 'Terrence Howard', 'CCH Pou...</td>\n",
              "      <td>['Clark Johnson']</td>\n",
              "      <td>['Joseph Vitarelli']</td>\n",
              "    </tr>\n",
              "    <tr>\n",
              "      <th>19</th>\n",
              "      <td>19</td>\n",
              "      <td>Meat Loaf: Bat Out of Hell</td>\n",
              "      <td>1999.0</td>\n",
              "      <td>episode</td>\n",
              "      <td>['Documentary', 'Music']</td>\n",
              "      <td>7.7</td>\n",
              "      <td>286.0</td>\n",
              "      <td>['United States']</td>\n",
              "      <td>['English']</td>\n",
              "      <td>['58']</td>\n",
              "      <td>['Meat Loaf', 'Jim Steinman', 'Karla DeVito', ...</td>\n",
              "      <td>['Bob Smeaton']</td>\n",
              "      <td>NaN</td>\n",
              "    </tr>\n",
              "    <tr>\n",
              "      <th>20</th>\n",
              "      <td>20</td>\n",
              "      <td>Aqua Teen Hunger Force</td>\n",
              "      <td>2000.0</td>\n",
              "      <td>tv series</td>\n",
              "      <td>['Animation', 'Comedy']</td>\n",
              "      <td>7.6</td>\n",
              "      <td>23785.0</td>\n",
              "      <td>['United States']</td>\n",
              "      <td>['English']</td>\n",
              "      <td>['15']</td>\n",
              "      <td>['Dave Willis', 'Dana Snyder', 'Carey Means', ...</td>\n",
              "      <td>NaN</td>\n",
              "      <td>NaN</td>\n",
              "    </tr>\n",
              "    <tr>\n",
              "      <th>21</th>\n",
              "      <td>21</td>\n",
              "      <td>FernGully 2: The Magical Rescue</td>\n",
              "      <td>1998.0</td>\n",
              "      <td>video movie</td>\n",
              "      <td>['Animation', 'Adventure', 'Family', 'Fantasy']</td>\n",
              "      <td>4.6</td>\n",
              "      <td>1484.0</td>\n",
              "      <td>['United States']</td>\n",
              "      <td>['English']</td>\n",
              "      <td>['75']</td>\n",
              "      <td>['James S. Baker', 'Matt K. Miller', 'Erik Ber...</td>\n",
              "      <td>['Phil Robinson', 'David Marshall']</td>\n",
              "      <td>['Nerida Tyson-Chew']</td>\n",
              "    </tr>\n",
              "    <tr>\n",
              "      <th>22</th>\n",
              "      <td>22</td>\n",
              "      <td>Lady Chatterley</td>\n",
              "      <td>1993.0</td>\n",
              "      <td>tv mini series</td>\n",
              "      <td>['Drama', 'Romance']</td>\n",
              "      <td>6.9</td>\n",
              "      <td>1605.0</td>\n",
              "      <td>['United Kingdom']</td>\n",
              "      <td>['English']</td>\n",
              "      <td>['205']</td>\n",
              "      <td>['Joely Richardson', 'Sean Bean', 'James Wilby...</td>\n",
              "      <td>NaN</td>\n",
              "      <td>NaN</td>\n",
              "    </tr>\n",
              "    <tr>\n",
              "      <th>23</th>\n",
              "      <td>23</td>\n",
              "      <td>Zatoichi's Conspiracy</td>\n",
              "      <td>1973.0</td>\n",
              "      <td>movie</td>\n",
              "      <td>['Action', 'Drama']</td>\n",
              "      <td>7.1</td>\n",
              "      <td>911.0</td>\n",
              "      <td>['Japan']</td>\n",
              "      <td>['Japanese']</td>\n",
              "      <td>['88']</td>\n",
              "      <td>['Shintarô Katsu', 'Yukiyo Toake', 'Eiji Okada...</td>\n",
              "      <td>['Kimiyoshi Yasuda']</td>\n",
              "      <td>['Akira Ifukube']</td>\n",
              "    </tr>\n",
              "    <tr>\n",
              "      <th>24</th>\n",
              "      <td>24</td>\n",
              "      <td>Daydream Obsession</td>\n",
              "      <td>2003.0</td>\n",
              "      <td>video movie</td>\n",
              "      <td>['Romance']</td>\n",
              "      <td>2.8</td>\n",
              "      <td>120.0</td>\n",
              "      <td>['United States']</td>\n",
              "      <td>['English']</td>\n",
              "      <td>['87']</td>\n",
              "      <td>['Joe Dain', 'Kris Black', 'Julian Coca', 'Dan...</td>\n",
              "      <td>['Thomas R. Smyth']</td>\n",
              "      <td>NaN</td>\n",
              "    </tr>\n",
              "    <tr>\n",
              "      <th>25</th>\n",
              "      <td>25</td>\n",
              "      <td>Love Reinvented</td>\n",
              "      <td>1996.0</td>\n",
              "      <td>tv mini series</td>\n",
              "      <td>['Drama', 'Comedy']</td>\n",
              "      <td>5.3</td>\n",
              "      <td>129.0</td>\n",
              "      <td>['France']</td>\n",
              "      <td>['French', 'English']</td>\n",
              "      <td>['55']</td>\n",
              "      <td>['Bérénice Bejo', 'Éric Caravaca', 'Adrien de ...</td>\n",
              "      <td>NaN</td>\n",
              "      <td>NaN</td>\n",
              "    </tr>\n",
              "    <tr>\n",
              "      <th>26</th>\n",
              "      <td>26</td>\n",
              "      <td>TerrorVision</td>\n",
              "      <td>1986.0</td>\n",
              "      <td>movie</td>\n",
              "      <td>['Comedy', 'Horror', 'Sci-Fi']</td>\n",
              "      <td>5.7</td>\n",
              "      <td>6778.0</td>\n",
              "      <td>['United States', 'Italy']</td>\n",
              "      <td>['English']</td>\n",
              "      <td>['85']</td>\n",
              "      <td>['Diane Franklin', 'Gerrit Graham', 'Mary Woro...</td>\n",
              "      <td>['Ted Nicolaou']</td>\n",
              "      <td>['Richard Band']</td>\n",
              "    </tr>\n",
              "    <tr>\n",
              "      <th>27</th>\n",
              "      <td>27</td>\n",
              "      <td>Silent Service</td>\n",
              "      <td>2016.0</td>\n",
              "      <td>movie</td>\n",
              "      <td>['Short', 'Action', 'Drama']</td>\n",
              "      <td>9.1</td>\n",
              "      <td>11.0</td>\n",
              "      <td>['United States']</td>\n",
              "      <td>['English']</td>\n",
              "      <td>NaN</td>\n",
              "      <td>['Kirk H. Andersen', 'Mary Avgerinos', 'Daniel...</td>\n",
              "      <td>['Sy Cody White']</td>\n",
              "      <td>['Chris Lott']</td>\n",
              "    </tr>\n",
              "    <tr>\n",
              "      <th>28</th>\n",
              "      <td>28</td>\n",
              "      <td>The Spitfire Grill</td>\n",
              "      <td>1996.0</td>\n",
              "      <td>movie</td>\n",
              "      <td>['Drama']</td>\n",
              "      <td>7.0</td>\n",
              "      <td>6850.0</td>\n",
              "      <td>['United States']</td>\n",
              "      <td>['English']</td>\n",
              "      <td>['117']</td>\n",
              "      <td>['Alison Elliott', 'Ellen Burstyn', 'Marcia Ga...</td>\n",
              "      <td>['Lee David Zlotoff']</td>\n",
              "      <td>['James Horner']</td>\n",
              "    </tr>\n",
              "  </tbody>\n",
              "</table>\n",
              "</div>"
            ],
            "text/plain": [
              "    Unnamed: 0  ...                        composer\n",
              "0            0  ...                             NaN\n",
              "1            1  ...                ['Youki Kojima']\n",
              "2            2  ...                             NaN\n",
              "3            3  ...                             NaN\n",
              "4            4  ...                             NaN\n",
              "5            5  ...                 ['Carole King']\n",
              "6            6  ...          ['Christopher Franke']\n",
              "7            7  ...                 ['Bob Mithoff']\n",
              "8            8  ...               ['Michael Brook']\n",
              "9            9  ...                             NaN\n",
              "10          10  ...                             NaN\n",
              "11          11  ...                             NaN\n",
              "12          12  ...  ['Barry Taylor', 'Neal Acree']\n",
              "13          13  ...                ['Trevor Jones']\n",
              "14          14  ...            ['Rahul Dev Burman']\n",
              "15          15  ...     ['Rupert Gregson-Williams']\n",
              "16          16  ...                             NaN\n",
              "17          17  ...                             NaN\n",
              "18          18  ...            ['Joseph Vitarelli']\n",
              "19          19  ...                             NaN\n",
              "20          20  ...                             NaN\n",
              "21          21  ...           ['Nerida Tyson-Chew']\n",
              "22          22  ...                             NaN\n",
              "23          23  ...               ['Akira Ifukube']\n",
              "24          24  ...                             NaN\n",
              "25          25  ...                             NaN\n",
              "26          26  ...                ['Richard Band']\n",
              "27          27  ...                  ['Chris Lott']\n",
              "28          28  ...                ['James Horner']\n",
              "\n",
              "[29 rows x 13 columns]"
            ]
          },
          "metadata": {},
          "execution_count": 4
        }
      ]
    },
    {
      "cell_type": "markdown",
      "metadata": {
        "id": "0KLJspV9kWhw"
      },
      "source": [
        "## Assigning Different Attributes from the data set to different variables"
      ]
    },
    {
      "cell_type": "code",
      "metadata": {
        "id": "k6I7JhJrWSAJ"
      },
      "source": [
        "x=data[\"year\"]\n",
        "y=data[\"rating\"]\n",
        "z=data[\"vote\"]\n",
        "a=data[\"runtime\"]"
      ],
      "execution_count": null,
      "outputs": []
    },
    {
      "cell_type": "markdown",
      "metadata": {
        "id": "vYfkIAg7knvN"
      },
      "source": [
        "##Plotting Histogram for showing the launch Year of all the shows"
      ]
    },
    {
      "cell_type": "code",
      "metadata": {
        "colab": {
          "base_uri": "https://localhost:8080/",
          "height": 332
        },
        "id": "BfFksTlIX2Ch",
        "outputId": "4aa838cb-8c3f-4d0c-d2e7-a4c75713e4b5"
      },
      "source": [
        "plt.hist(x)"
      ],
      "execution_count": null,
      "outputs": [
        {
          "output_type": "execute_result",
          "data": {
            "text/plain": [
              "(array([2., 0., 1., 3., 5., 6., 5., 1., 3., 2.]),\n",
              " array([1972. , 1976.9, 1981.8, 1986.7, 1991.6, 1996.5, 2001.4, 2006.3,\n",
              "        2011.2, 2016.1, 2021. ]),\n",
              " <a list of 10 Patch objects>)"
            ]
          },
          "metadata": {},
          "execution_count": 6
        },
        {
          "output_type": "display_data",
          "data": {
            "image/png": "[encoded data removed]",
            "text/plain": [
              "<Figure size 432x288 with 1 Axes>"
            ]
          },
          "metadata": {
            "needs_background": "light"
          }
        }
      ]
    },
    {
      "cell_type": "markdown",
      "metadata": {
        "id": "j-goxlsvlN-v"
      },
      "source": [
        "##Plotting Histogram for showing the rating of all the shows"
      ]
    },
    {
      "cell_type": "code",
      "metadata": {
        "colab": {
          "base_uri": "https://localhost:8080/",
          "height": 315
        },
        "id": "I4u1-n0zYA9n",
        "outputId": "62b6a07d-f707-4457-b64a-4ac15a5ec8e4"
      },
      "source": [
        "plt.hist(y)"
      ],
      "execution_count": null,
      "outputs": [
        {
          "output_type": "execute_result",
          "data": {
            "text/plain": [
              "(array([1., 0., 2., 3., 2., 0., 9., 5., 3., 1.]),\n",
              " array([2.8 , 3.43, 4.06, 4.69, 5.32, 5.95, 6.58, 7.21, 7.84, 8.47, 9.1 ]),\n",
              " <a list of 10 Patch objects>)"
            ]
          },
          "metadata": {},
          "execution_count": 7
        },
        {
          "output_type": "display_data",
          "data": {
            "image/png": "[encoded data removed]",
            "text/plain": [
              "<Figure size 432x288 with 1 Axes>"
            ]
          },
          "metadata": {
            "needs_background": "light"
          }
        }
      ]
    },
    {
      "cell_type": "markdown",
      "metadata": {
        "id": "_1OnE3lKlbx8"
      },
      "source": [
        "##Plotting Histogram for showing the vote that each show have got "
      ]
    },
    {
      "cell_type": "code",
      "metadata": {
        "colab": {
          "base_uri": "https://localhost:8080/",
          "height": 348
        },
        "id": "t4QGl6WEYNOf",
        "outputId": "dfa18b8e-fd8b-4cb1-96ba-27034ed52f2b"
      },
      "source": [
        "plt.hist(z)"
      ],
      "execution_count": null,
      "outputs": [
        {
          "output_type": "execute_result",
          "data": {
            "text/plain": [
              "(array([25.,  0.,  0.,  0.,  0.,  0.,  0.,  0.,  0.,  1.]),\n",
              " array([1.100000e+01, 3.512980e+04, 7.024860e+04, 1.053674e+05,\n",
              "        1.404862e+05, 1.756050e+05, 2.107238e+05, 2.458426e+05,\n",
              "        2.809614e+05, 3.160802e+05, 3.511990e+05]),\n",
              " <a list of 10 Patch objects>)"
            ]
          },
          "metadata": {},
          "execution_count": 8
        },
        {
          "output_type": "display_data",
          "data": {
            "image/png": "[encoded data removed]",
            "text/plain": [
              "<Figure size 432x288 with 1 Axes>"
            ]
          },
          "metadata": {
            "needs_background": "light"
          }
        }
      ]
    }
  ]
}