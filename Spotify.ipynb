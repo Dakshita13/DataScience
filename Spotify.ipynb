{
  "nbformat": 4,
  "nbformat_minor": 0,
  "metadata": {
    "colab": {
      "name": "Spotify.ipynb",
      "provenance": [],
      "collapsed_sections": []
    },
    "kernelspec": {
      "name": "python3",
      "display_name": "Python 3"
    },
    "language_info": {
      "name": "python"
    }
  },
  "cells": [
    {
      "cell_type": "markdown",
      "metadata": {
        "id": "_-utpeiNRuGh"
      },
      "source": [
        "#**Importing** **the** **data** **set**"
      ]
    },
    {
      "cell_type": "code",
      "metadata": {
        "colab": {
          "resources": {
            "http://localhost:8080/nbextensions/google.colab/files.js": {
              "data": "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",
              "ok": true,
              "headers": [
                [
                  "content-type",
                  "application/javascript"
                ]
              ],
              "status": 200,
              "status_text": ""
            }
          },
          "base_uri": "https://localhost:8080/",
          "height": 73
        },
        "id": "VamVKFbaIAPB",
        "outputId": "2321414c-54ce-4c52-d126-84a19c413c44"
      },
      "source": [
        "from google.colab import files\n",
        "  \n",
        "  \n",
        "uploaded = files.upload()"
      ],
      "execution_count": null,
      "outputs": [
        {
          "output_type": "display_data",
          "data": {
            "text/html": [
              "\n",
              "     <input type=\"file\" id=\"files-602352b2-d3b4-4d27-a10a-81b97b482c78\" name=\"files[]\" multiple disabled\n",
              "        style=\"border:none\" />\n",
              "     <output id=\"result-602352b2-d3b4-4d27-a10a-81b97b482c78\">\n",
              "      Upload widget is only available when the cell has been executed in the\n",
              "      current browser session. Please rerun this cell to enable.\n",
              "      </output>\n",
              "      <script src=\"/nbextensions/google.colab/files.js\"></script> "
            ],
            "text/plain": [
              "<IPython.core.display.HTML object>"
            ]
          },
          "metadata": {}
        },
        {
          "output_type": "stream",
          "name": "stdout",
          "text": [
            "Saving data.csv to data.csv\n"
          ]
        }
      ]
    },
    {
      "cell_type": "markdown",
      "metadata": {
        "id": "H4DgdCw-IxJK"
      },
      "source": [
        "1. For a given dataset, display a chosen feature using different mean values\n",
        "2. Display the confidence interval of a chosen feature based on a sample"
      ]
    },
    {
      "cell_type": "markdown",
      "metadata": {
        "id": "o2_IPEcbJZcu"
      },
      "source": [
        "#**Header** **files**"
      ]
    },
    {
      "cell_type": "code",
      "metadata": {
        "id": "ZA3VpVG5I2rc"
      },
      "source": [
        "import numpy as np\n",
        "from numpy import average\n",
        "import pandas as pd\n",
        "import sklearn as sk\n",
        "from sklearn.linear_model import LinearRegression\n",
        "import matplotlib.pyplot as plt\n",
        "from scipy import stats\n",
        "import statistics as st\n",
        "import csv\n",
        "\n"
      ],
      "execution_count": null,
      "outputs": []
    },
    {
      "cell_type": "markdown",
      "metadata": {
        "id": "-3NIMQ3VJuYG"
      },
      "source": [
        "#**Read** **datasets** (Spotify Recommandation)"
      ]
    },
    {
      "cell_type": "code",
      "metadata": {
        "colab": {
          "base_uri": "https://localhost:8080/"
        },
        "id": "Vd5bPsVBJjkJ",
        "outputId": "19a98bc7-9bd1-460c-e826-741855717710"
      },
      "source": [
        "data = pd.read_csv(\"data.csv\")\n",
        "print(data)"
      ],
      "execution_count": null,
      "outputs": [
        {
          "output_type": "stream",
          "name": "stdout",
          "text": [
            "     danceability  energy  key  ...  duration_ms  time_signature  liked\n",
            "0           0.803  0.6240    7  ...       304524               4      0\n",
            "1           0.762  0.7030   10  ...       247178               4      1\n",
            "2           0.261  0.0149    1  ...       286987               4      0\n",
            "3           0.722  0.7360    3  ...       208920               4      1\n",
            "4           0.787  0.5720    1  ...       179413               4      1\n",
            "..            ...     ...  ...  ...          ...             ...    ...\n",
            "190         0.166  0.0551    9  ...       206520               3      0\n",
            "191         0.862  0.6240    3  ...       254240               4      0\n",
            "192         0.499  0.3510    9  ...       235947               4      0\n",
            "193         0.574  0.7290   10  ...       190239               5      1\n",
            "194         0.747  0.6660   11  ...       177213               4      1\n",
            "\n",
            "[195 rows x 14 columns]\n"
          ]
        }
      ]
    },
    {
      "cell_type": "code",
      "metadata": {
        "colab": {
          "base_uri": "https://localhost:8080/"
        },
        "id": "68G6Tc4c_rSb",
        "outputId": "ad5ba784-dc60-4d32-f865-8ad4436865c6"
      },
      "source": [
        "for row in data:\n",
        "  print(row)\n"
      ],
      "execution_count": null,
      "outputs": [
        {
          "output_type": "stream",
          "name": "stdout",
          "text": [
            "danceability\n",
            "energy\n",
            "key\n",
            "loudness\n",
            "mode\n",
            "speechiness\n",
            "acousticness\n",
            "instrumentalness\n",
            "liveness\n",
            "valence\n",
            "tempo\n",
            "duration_ms\n",
            "time_signature\n",
            "liked\n"
          ]
        }
      ]
    },
    {
      "cell_type": "markdown",
      "metadata": {
        "id": "TMBazs0sRiVs"
      },
      "source": [
        ""
      ]
    },
    {
      "cell_type": "markdown",
      "metadata": {
        "id": "VGatO0pKK_Kq"
      },
      "source": [
        "#Data Features\n",
        "\n",
        "\n",
        "*   acousticness : A confidence measure from 0.0 to 1.0 of whether the track is acoustic. 1.0 represents high confidence the track is acoustic.\n",
        "* danceability : Danceability describes how suitable a track is for dancing based on a combination of musical elements including tempo, rhythm stability, beat strength, and overall regularity. A value of 0.0 is least danceable and 1.0 is most danceable.\n",
        "* duration_ms : The duration of the track in milliseconds.\n",
        "* energy : Energy is a measure from 0.0 to 1.0 and represents a perceptual measure of intensity and activity. Typically, energetic tracks feel fast, loud, and noisy. For example, death metal has high energy, while a Bach prelude scores low on the scale. Perceptual features contributing to this attribute include dynamic range, perceived loudness, timbre, onset rate, and general entropy.\n",
        "* instrumentalness : Predicts whether a track contains no vocals. “Ooh” and “aah” sounds are treated as instrumental in this context. Rap or spoken word tracks are clearly “vocal”. The closer the instrumentalness value is to 1.0, the greater likelihood the track contains no vocal content. Values above 0.5 are intended to represent instrumental tracks, but confidence is higher as the value approaches 1.0.\n",
        "* key : The key the track is in. Integers map to pitches using standard Pitch Class notation . E.g. 0 = C, 1 = C♯/D♭, 2 = D, and so on.\n",
        "* liveness : Detects the presence of an audience in the recording. Higher liveness values represent an increased probability that the track was performed live. A value above 0.8 provides strong likelihood that the track is live.\n",
        "* loudness : The overall loudness of a track in decibels (dB). Loudness values are averaged across the entire track and are useful for comparing relative loudness of tracks. Loudness is the quality of a sound that is the primary psychological correlate of physical strength (amplitude). Values typical range between -60 and 0 db.\n",
        "* mode : Mode indicates the modality (major or minor) of a track, the type of scale from which its melodic content is derived. Major is represented by 1 and minor is 0.\n",
        "* speechiness : Speechiness detects the presence of spoken words in a track. The more exclusively speech-like the recording (e.g. talk show, audio book, poetry), the closer to 1.0 the attribute value. Values above 0.66 describe tracks that are probably made entirely of spoken words. Values between 0.33 and 0.66 describe tracks that may contain both music and speech, either in sections or layered, including such cases as rap music. Values below 0.33 most likely represent music and other non-speech-like tracks.\n",
        "* tempo : The overall estimated tempo of a track in beats per minute (BPM). In musical terminology, tempo is the speed or pace of a given piece and derives directly from the average beat duration.\n",
        "* time_signature : An estimated overall time signature of a track. The time signature (meter) is a notational convention to specify how many beats are in each bar (or measure).\n",
        "\n"
      ]
    },
    {
      "cell_type": "markdown",
      "metadata": {
        "id": "nMukSt9vNR3T"
      },
      "source": [
        "#**Preffered** **feature** -> ***Energy with Time_signature***"
      ]
    },
    {
      "cell_type": "code",
      "metadata": {
        "id": "V-lykLnUK9TA"
      },
      "source": [
        "x=data.energy\n",
        "y=data.time_signature"
      ],
      "execution_count": null,
      "outputs": []
    },
    {
      "cell_type": "code",
      "metadata": {
        "id": "9avMU3WkJ0xB",
        "colab": {
          "base_uri": "https://localhost:8080/",
          "height": 295
        },
        "outputId": "59297750-fbaf-468d-fb13-6f08e2d9b278"
      },
      "source": [
        "plt.title(\"Energy with Time_Signature\")\n",
        "plt.xlabel(\"Energy\")\n",
        "plt.ylabel(\"time_signature\")\n",
        "\n",
        "plt.scatter(x, y)\n",
        "plt.show()\n",
        "\n",
        "n=len(y)\n"
      ],
      "execution_count": null,
      "outputs": [
        {
          "output_type": "display_data",
          "data": {
            "image/png": "[encoded data removed]",
            "text/plain": [
              "<Figure size 432x288 with 1 Axes>"
            ]
          },
          "metadata": {
            "needs_background": "light"
          }
        }
      ]
    },
    {
      "cell_type": "code",
      "metadata": {
        "colab": {
          "base_uri": "https://localhost:8080/",
          "height": 499
        },
        "id": "IoyODhNj8FYW",
        "outputId": "a476dd3c-b0a0-440a-a3ac-68b5e6ffd53a"
      },
      "source": [
        "data.corr()"
      ],
      "execution_count": null,
      "outputs": [
        {
          "output_type": "execute_result",
          "data": {
            "text/html": [
              "<div>\n",
              "<style scoped>\n",
              "    .dataframe tbody tr th:only-of-type {\n",
              "        vertical-align: middle;\n",
              "    }\n",
              "\n",
              "    .dataframe tbody tr th {\n",
              "        vertical-align: top;\n",
              "    }\n",
              "\n",
              "    .dataframe thead th {\n",
              "        text-align: right;\n",
              "    }\n",
              "</style>\n",
              "<table border=\"1\" class=\"dataframe\">\n",
              "  <thead>\n",
              "    <tr style=\"text-align: right;\">\n",
              "      <th></th>\n",
              "      <th>danceability</th>\n",
              "      <th>energy</th>\n",
              "      <th>key</th>\n",
              "      <th>loudness</th>\n",
              "      <th>mode</th>\n",
              "      <th>speechiness</th>\n",
              "      <th>acousticness</th>\n",
              "      <th>instrumentalness</th>\n",
              "      <th>liveness</th>\n",
              "      <th>valence</th>\n",
              "      <th>tempo</th>\n",
              "      <th>duration_ms</th>\n",
              "      <th>time_signature</th>\n",
              "      <th>liked</th>\n",
              "    </tr>\n",
              "  </thead>\n",
              "  <tbody>\n",
              "    <tr>\n",
              "      <th>danceability</th>\n",
              "      <td>1.000000</td>\n",
              "      <td>0.137188</td>\n",
              "      <td>-0.063906</td>\n",
              "      <td>0.455078</td>\n",
              "      <td>0.043759</td>\n",
              "      <td>0.388596</td>\n",
              "      <td>-0.234176</td>\n",
              "      <td>-0.807053</td>\n",
              "      <td>-0.137069</td>\n",
              "      <td>0.612344</td>\n",
              "      <td>0.223522</td>\n",
              "      <td>-0.232621</td>\n",
              "      <td>0.317096</td>\n",
              "      <td>0.569425</td>\n",
              "    </tr>\n",
              "    <tr>\n",
              "      <th>energy</th>\n",
              "      <td>0.137188</td>\n",
              "      <td>1.000000</td>\n",
              "      <td>0.130251</td>\n",
              "      <td>0.813567</td>\n",
              "      <td>-0.068308</td>\n",
              "      <td>0.122825</td>\n",
              "      <td>-0.772583</td>\n",
              "      <td>-0.241444</td>\n",
              "      <td>0.166508</td>\n",
              "      <td>0.319409</td>\n",
              "      <td>0.214905</td>\n",
              "      <td>-0.134527</td>\n",
              "      <td>0.123942</td>\n",
              "      <td>0.176179</td>\n",
              "    </tr>\n",
              "    <tr>\n",
              "      <th>key</th>\n",
              "      <td>-0.063906</td>\n",
              "      <td>0.130251</td>\n",
              "      <td>1.000000</td>\n",
              "      <td>0.046865</td>\n",
              "      <td>-0.103371</td>\n",
              "      <td>-0.093395</td>\n",
              "      <td>-0.066844</td>\n",
              "      <td>0.003597</td>\n",
              "      <td>-0.039622</td>\n",
              "      <td>0.033336</td>\n",
              "      <td>0.097240</td>\n",
              "      <td>0.054522</td>\n",
              "      <td>0.048344</td>\n",
              "      <td>-0.044406</td>\n",
              "    </tr>\n",
              "    <tr>\n",
              "      <th>loudness</th>\n",
              "      <td>0.455078</td>\n",
              "      <td>0.813567</td>\n",
              "      <td>0.046865</td>\n",
              "      <td>1.000000</td>\n",
              "      <td>-0.041678</td>\n",
              "      <td>0.279710</td>\n",
              "      <td>-0.664989</td>\n",
              "      <td>-0.538266</td>\n",
              "      <td>0.078093</td>\n",
              "      <td>0.363532</td>\n",
              "      <td>0.274462</td>\n",
              "      <td>-0.206334</td>\n",
              "      <td>0.207806</td>\n",
              "      <td>0.410774</td>\n",
              "    </tr>\n",
              "    <tr>\n",
              "      <th>mode</th>\n",
              "      <td>0.043759</td>\n",
              "      <td>-0.068308</td>\n",
              "      <td>-0.103371</td>\n",
              "      <td>-0.041678</td>\n",
              "      <td>1.000000</td>\n",
              "      <td>0.031953</td>\n",
              "      <td>-0.025709</td>\n",
              "      <td>0.075442</td>\n",
              "      <td>-0.048661</td>\n",
              "      <td>0.033409</td>\n",
              "      <td>-0.036270</td>\n",
              "      <td>-0.060965</td>\n",
              "      <td>-0.110739</td>\n",
              "      <td>0.023747</td>\n",
              "    </tr>\n",
              "    <tr>\n",
              "      <th>speechiness</th>\n",
              "      <td>0.388596</td>\n",
              "      <td>0.122825</td>\n",
              "      <td>-0.093395</td>\n",
              "      <td>0.279710</td>\n",
              "      <td>0.031953</td>\n",
              "      <td>1.000000</td>\n",
              "      <td>-0.079710</td>\n",
              "      <td>-0.343242</td>\n",
              "      <td>-0.006665</td>\n",
              "      <td>0.180708</td>\n",
              "      <td>0.313918</td>\n",
              "      <td>-0.388397</td>\n",
              "      <td>0.140325</td>\n",
              "      <td>0.591505</td>\n",
              "    </tr>\n",
              "    <tr>\n",
              "      <th>acousticness</th>\n",
              "      <td>-0.234176</td>\n",
              "      <td>-0.772583</td>\n",
              "      <td>-0.066844</td>\n",
              "      <td>-0.664989</td>\n",
              "      <td>-0.025709</td>\n",
              "      <td>-0.079710</td>\n",
              "      <td>1.000000</td>\n",
              "      <td>0.294320</td>\n",
              "      <td>-0.140988</td>\n",
              "      <td>-0.313806</td>\n",
              "      <td>-0.255097</td>\n",
              "      <td>0.138793</td>\n",
              "      <td>-0.142177</td>\n",
              "      <td>-0.179375</td>\n",
              "    </tr>\n",
              "    <tr>\n",
              "      <th>instrumentalness</th>\n",
              "      <td>-0.807053</td>\n",
              "      <td>-0.241444</td>\n",
              "      <td>0.003597</td>\n",
              "      <td>-0.538266</td>\n",
              "      <td>0.075442</td>\n",
              "      <td>-0.343242</td>\n",
              "      <td>0.294320</td>\n",
              "      <td>1.000000</td>\n",
              "      <td>0.055730</td>\n",
              "      <td>-0.572224</td>\n",
              "      <td>-0.299493</td>\n",
              "      <td>0.249683</td>\n",
              "      <td>-0.375199</td>\n",
              "      <td>-0.569440</td>\n",
              "    </tr>\n",
              "    <tr>\n",
              "      <th>liveness</th>\n",
              "      <td>-0.137069</td>\n",
              "      <td>0.166508</td>\n",
              "      <td>-0.039622</td>\n",
              "      <td>0.078093</td>\n",
              "      <td>-0.048661</td>\n",
              "      <td>-0.006665</td>\n",
              "      <td>-0.140988</td>\n",
              "      <td>0.055730</td>\n",
              "      <td>1.000000</td>\n",
              "      <td>-0.013004</td>\n",
              "      <td>-0.010555</td>\n",
              "      <td>-0.143966</td>\n",
              "      <td>-0.135409</td>\n",
              "      <td>-0.009797</td>\n",
              "    </tr>\n",
              "    <tr>\n",
              "      <th>valence</th>\n",
              "      <td>0.612344</td>\n",
              "      <td>0.319409</td>\n",
              "      <td>0.033336</td>\n",
              "      <td>0.363532</td>\n",
              "      <td>0.033409</td>\n",
              "      <td>0.180708</td>\n",
              "      <td>-0.313806</td>\n",
              "      <td>-0.572224</td>\n",
              "      <td>-0.013004</td>\n",
              "      <td>1.000000</td>\n",
              "      <td>0.218017</td>\n",
              "      <td>-0.114842</td>\n",
              "      <td>0.201111</td>\n",
              "      <td>0.268653</td>\n",
              "    </tr>\n",
              "    <tr>\n",
              "      <th>tempo</th>\n",
              "      <td>0.223522</td>\n",
              "      <td>0.214905</td>\n",
              "      <td>0.097240</td>\n",
              "      <td>0.274462</td>\n",
              "      <td>-0.036270</td>\n",
              "      <td>0.313918</td>\n",
              "      <td>-0.255097</td>\n",
              "      <td>-0.299493</td>\n",
              "      <td>-0.010555</td>\n",
              "      <td>0.218017</td>\n",
              "      <td>1.000000</td>\n",
              "      <td>-0.256250</td>\n",
              "      <td>0.071754</td>\n",
              "      <td>0.371202</td>\n",
              "    </tr>\n",
              "    <tr>\n",
              "      <th>duration_ms</th>\n",
              "      <td>-0.232621</td>\n",
              "      <td>-0.134527</td>\n",
              "      <td>0.054522</td>\n",
              "      <td>-0.206334</td>\n",
              "      <td>-0.060965</td>\n",
              "      <td>-0.388397</td>\n",
              "      <td>0.138793</td>\n",
              "      <td>0.249683</td>\n",
              "      <td>-0.143966</td>\n",
              "      <td>-0.114842</td>\n",
              "      <td>-0.256250</td>\n",
              "      <td>1.000000</td>\n",
              "      <td>-0.039078</td>\n",
              "      <td>-0.490651</td>\n",
              "    </tr>\n",
              "    <tr>\n",
              "      <th>time_signature</th>\n",
              "      <td>0.317096</td>\n",
              "      <td>0.123942</td>\n",
              "      <td>0.048344</td>\n",
              "      <td>0.207806</td>\n",
              "      <td>-0.110739</td>\n",
              "      <td>0.140325</td>\n",
              "      <td>-0.142177</td>\n",
              "      <td>-0.375199</td>\n",
              "      <td>-0.135409</td>\n",
              "      <td>0.201111</td>\n",
              "      <td>0.071754</td>\n",
              "      <td>-0.039078</td>\n",
              "      <td>1.000000</td>\n",
              "      <td>0.221479</td>\n",
              "    </tr>\n",
              "    <tr>\n",
              "      <th>liked</th>\n",
              "      <td>0.569425</td>\n",
              "      <td>0.176179</td>\n",
              "      <td>-0.044406</td>\n",
              "      <td>0.410774</td>\n",
              "      <td>0.023747</td>\n",
              "      <td>0.591505</td>\n",
              "      <td>-0.179375</td>\n",
              "      <td>-0.569440</td>\n",
              "      <td>-0.009797</td>\n",
              "      <td>0.268653</td>\n",
              "      <td>0.371202</td>\n",
              "      <td>-0.490651</td>\n",
              "      <td>0.221479</td>\n",
              "      <td>1.000000</td>\n",
              "    </tr>\n",
              "  </tbody>\n",
              "</table>\n",
              "</div>"
            ],
            "text/plain": [
              "                  danceability    energy  ...  time_signature     liked\n",
              "danceability          1.000000  0.137188  ...        0.317096  0.569425\n",
              "energy                0.137188  1.000000  ...        0.123942  0.176179\n",
              "key                  -0.063906  0.130251  ...        0.048344 -0.044406\n",
              "loudness              0.455078  0.813567  ...        0.207806  0.410774\n",
              "mode                  0.043759 -0.068308  ...       -0.110739  0.023747\n",
              "speechiness           0.388596  0.122825  ...        0.140325  0.591505\n",
              "acousticness         -0.234176 -0.772583  ...       -0.142177 -0.179375\n",
              "instrumentalness     -0.807053 -0.241444  ...       -0.375199 -0.569440\n",
              "liveness             -0.137069  0.166508  ...       -0.135409 -0.009797\n",
              "valence               0.612344  0.319409  ...        0.201111  0.268653\n",
              "tempo                 0.223522  0.214905  ...        0.071754  0.371202\n",
              "duration_ms          -0.232621 -0.134527  ...       -0.039078 -0.490651\n",
              "time_signature        0.317096  0.123942  ...        1.000000  0.221479\n",
              "liked                 0.569425  0.176179  ...        0.221479  1.000000\n",
              "\n",
              "[14 rows x 14 columns]"
            ]
          },
          "metadata": {},
          "execution_count": 7
        }
      ]
    },
    {
      "cell_type": "code",
      "metadata": {
        "id": "DF6R1MFd-KM7",
        "colab": {
          "base_uri": "https://localhost:8080/"
        },
        "outputId": "24663aac-a90b-461f-c52e-df65e328cc54"
      },
      "source": [
        "#mean value \n",
        "\n",
        "mean=st.mean(x) #average energy level of any music\n",
        "\n",
        "print(\"Average energy level\",mean)\n",
        "print(\"Rounding the Average to 2 decimals\",round(mean,2))"
      ],
      "execution_count": null,
      "outputs": [
        {
          "output_type": "stream",
          "name": "stdout",
          "text": [
            "Average energy level 0.6384314871794872\n",
            "Rounding the Average to 2 decimals 0.64\n"
          ]
        }
      ]
    },
    {
      "cell_type": "code",
      "metadata": {
        "colab": {
          "base_uri": "https://localhost:8080/"
        },
        "id": "frtH3BSgLn_p",
        "outputId": "b761bd77-fb3b-4b70-ff8f-fde4aeda0b67"
      },
      "source": [
        "#trimmed mean\n",
        "\n",
        "m = stats.trim_mean(x, 0.1) #Trim 10% at both ends\n",
        "print(\"Average value by 80% of the given data=\",m)\n",
        "\n",
        "m = stats.trim_mean(x, 0.2) #Trim 20% at both ends\n",
        "print(\"Average value by 60% of the given data=\",m)\n",
        "\n",
        "m = stats.trim_mean(x, 0.3) #Trim 10% at both ends\n",
        "print(\"Average value by 40% of the given data=\",m)\n",
        "m = stats.trim_mean(x, 0.4) #Trim 10% at both ends\n",
        "print(\"Average value by 20% of the given data=\",m)"
      ],
      "execution_count": null,
      "outputs": [
        {
          "output_type": "stream",
          "name": "stdout",
          "text": [
            "Average value by 80% of the given data= 0.667356687898089\n",
            "Average value by 60% of the given data= 0.6673760683760683\n",
            "Average value by 40% of the given data= 0.6637215189873418\n",
            "Average value by 20% of the given data= 0.6598717948717947\n"
          ]
        }
      ]
    },
    {
      "cell_type": "code",
      "metadata": {
        "colab": {
          "base_uri": "https://localhost:8080/"
        },
        "id": "qmag7l7P_3z3",
        "outputId": "8830eb7b-7709-4000-b1a7-befc10c4e7e0"
      },
      "source": [
        "#Weighted mean\n",
        "#taking time duration as distribution\n",
        "#taking energy as wights\n",
        "def weighted_average_m1(y, x):\n",
        "    return round(sum([y[i]*x[i] for i in range(n)])/sum(x),2)\n",
        "\n",
        "print(\"Weighted mean of time_duration with energ=\",weighted_average_m1(y, x))\n"
      ],
      "execution_count": null,
      "outputs": [
        {
          "output_type": "stream",
          "name": "stdout",
          "text": [
            "Weighted mean of time_duration with energ= 3.94\n"
          ]
        }
      ]
    },
    {
      "cell_type": "code",
      "metadata": {
        "colab": {
          "base_uri": "https://localhost:8080/",
          "height": 261
        },
        "id": "VWY7p7XKFzaL",
        "outputId": "96743ac6-a3f2-41ce-f163-2b82da569e42"
      },
      "source": [
        "import numpy as np\n",
        "import pandas as pd\n",
        "import matplotlib.pyplot as plt\n",
        "\n",
        "plt.rcParams[\"figure.figsize\"] = [7.50, 3.50]\n",
        "plt.rcParams[\"figure.autolayout\"] = True\n",
        "\n",
        "df = pd.DataFrame()\n",
        "df['energy'] = np.random.choice(np.arange(10), 1000, replace=True)\n",
        "df['time_duration'] = np.random.normal(df['energy'], 1)\n",
        "\n",
        "mean = df.groupby('energy')['time_duration'].mean()\n",
        "std = df.groupby('energy')['time_duration'].std()\n",
        "plt.errorbar(mean.index, mean, xerr=0.5, yerr=2*std,\n",
        "               linestyle='--', c='red')\n",
        "\n",
        "plt.show()"
      ],
      "execution_count": null,
      "outputs": [
        {
          "output_type": "display_data",
          "data": {
            "image/png": "[encoded data removed]",
            "text/plain": [
              "<Figure size 540x252 with 1 Axes>"
            ]
          },
          "metadata": {
            "needs_background": "light"
          }
        }
      ]
    }
  ]
}